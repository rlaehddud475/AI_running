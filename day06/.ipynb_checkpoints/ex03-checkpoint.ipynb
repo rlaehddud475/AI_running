{
 "cells": [
  {
   "cell_type": "code",
   "execution_count": 1,
   "id": "4b786562-149b-44a5-b34e-7551bb5115d5",
   "metadata": {},
   "outputs": [],
   "source": [
    "from tensorflow import keras\n",
    "\n",
    "(train_input, train_target), (test_input, test_target) = keras.datasets.fashion_mnist.load_data()"
   ]
  },
  {
   "cell_type": "code",
   "execution_count": 2,
   "id": "3a8d0765-9215-459a-ab52-258d1c5cc661",
   "metadata": {},
   "outputs": [],
   "source": [
    "train_scaled = train_input / 255\n",
    "test_scaled=test_input/255"
   ]
  },
  {
   "cell_type": "code",
   "execution_count": 3,
   "id": "8274d4d2-3f47-4207-ba4d-821a4c5a2cea",
   "metadata": {},
   "outputs": [
    {
     "name": "stdout",
     "output_type": "stream",
     "text": [
      "(60000, 28, 28) (10000, 28, 28)\n"
     ]
    }
   ],
   "source": [
    "print(train_scaled.shape,test_scaled.shape)"
   ]
  },
  {
   "cell_type": "code",
   "execution_count": 4,
   "id": "093a02ea-0857-454b-9bd5-26e483da10ff",
   "metadata": {},
   "outputs": [],
   "source": [
    "input=keras.layers.Input(shape=(28,28))\n",
    "flatten=keras.layers.Flatten()\n",
    "hidden=keras.layers.Dense(100, activation=\"relu\")\n",
    "output=keras.layers.Dense(10, activation=\"softmax\")"
   ]
  },
  {
   "cell_type": "code",
   "execution_count": null,
   "id": "fbb89b36-609d-4c6a-ba2b-03637d552dc5",
   "metadata": {},
   "outputs": [],
   "source": []
  }
 ],
 "metadata": {
  "kernelspec": {
   "display_name": "Python 3 (ipykernel)",
   "language": "python",
   "name": "python3"
  },
  "language_info": {
   "codemirror_mode": {
    "name": "ipython",
    "version": 3
   },
   "file_extension": ".py",
   "mimetype": "text/x-python",
   "name": "python",
   "nbconvert_exporter": "python",
   "pygments_lexer": "ipython3",
   "version": "3.10.15"
  }
 },
 "nbformat": 4,
 "nbformat_minor": 5
}
