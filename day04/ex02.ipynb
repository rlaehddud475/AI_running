{
 "cells": [
  {
   "cell_type": "code",
   "execution_count": 1,
   "id": "4d70f89b-cb90-446f-beca-07b2dc06319b",
   "metadata": {},
   "outputs": [],
   "source": [
    "import numpy as np"
   ]
  },
  {
   "cell_type": "code",
   "execution_count": 4,
   "id": "2dd2b903-7a59-47a7-86fb-428162691b34",
   "metadata": {},
   "outputs": [
    {
     "name": "stdout",
     "output_type": "stream",
     "text": [
      "['사과' '망고' '배']\n"
     ]
    }
   ],
   "source": [
    "fruits=np.array(['사과','오렌지','멜론','망고','배'])\n",
    "print(fruits[[True, False, False, True, True]])"
   ]
  },
  {
   "cell_type": "code",
   "execution_count": null,
   "id": "3150ceb7-d147-432f-8860-82693716c4ad",
   "metadata": {},
   "outputs": [],
   "source": []
  }
 ],
 "metadata": {
  "kernelspec": {
   "display_name": "Python 3 (ipykernel)",
   "language": "python",
   "name": "python3"
  },
  "language_info": {
   "codemirror_mode": {
    "name": "ipython",
    "version": 3
   },
   "file_extension": ".py",
   "mimetype": "text/x-python",
   "name": "python",
   "nbconvert_exporter": "python",
   "pygments_lexer": "ipython3",
   "version": "3.13.0"
  }
 },
 "nbformat": 4,
 "nbformat_minor": 5
}
